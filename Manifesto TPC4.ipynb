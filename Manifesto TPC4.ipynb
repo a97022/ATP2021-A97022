{
 "cells": [
  {
   "cell_type": "markdown",
   "id": "acb72699-4a76-41e4-887d-790cca9dde36",
   "metadata": {},
   "source": [
    "# Manifesto TPC4\n",
    "\n",
    "### Identificador: TPC4\n",
    "### Título: Calculadora de Frações\n",
    "### Data de início: 2021-11-4   Data do fim: 2021-11-11\n",
    "### Supervisor: José Carlos Leite Ramalho, https://www.di.uminho.pt/~jcr/\n",
    "### Autor: Maria Susano do Vale\n",
    "\n",
    "## Resumo\n",
    "O exercício consistia em criar um Menu com as opções das seguintes operações e suas funções: somar, subtrair, dividir, multiplicar e sair para o cálculo de operações entre frações.\n",
    "\n",
    "A função Menu() apresenta unicamente o Menu da calculadora; A função sair() contém o import sys para finalizar o programa caso for selecionada; CriarFracao(numerador,denominador)dá o retorno do numerador e denominador da fração em tuplo;\n",
    "VerFracao() é a função que vai apresentar a fração na forma pedida '/';\n",
    "mdc(a,b) determina e retorna o máximo divisor comum entre o numerador e denominador, acontece como resposta à função mdc2;\n",
    "mdc2(a,b) determina também o máximo divisor comum e chama a função mdc(a,b) em determinadas condições; simplificarFracao(f) recebe as duas frações e retorna-as simplificadas;\n",
    "somarFracao(f1,f2) retorna a soma das frações; subtrairFracao(f1,f2) retorna a subtração das frações; dividirFracao(f1,f2) retorna a divisao das frações;\n",
    "multiplicarFracao(f1,f2) retorna a multiplicação das frações;\n",
    "gerar() é a função que pede em input os numeradores e denominadores das frações que o utilizador quer utilizar;\n",
    "jogar() é a função que coloca e organiza todas as funcções anteriores para que o programa corra.\n",
    "\n"
   ]
  },
  {
   "cell_type": "code",
   "execution_count": null,
   "id": "034817de-733e-4eb7-9d4a-2acd037dd170",
   "metadata": {},
   "outputs": [],
   "source": []
  }
 ],
 "metadata": {
  "kernelspec": {
   "display_name": "Python 3",
   "language": "python",
   "name": "python3"
  },
  "language_info": {
   "codemirror_mode": {
    "name": "ipython",
    "version": 3
   },
   "file_extension": ".py",
   "mimetype": "text/x-python",
   "name": "python",
   "nbconvert_exporter": "python",
   "pygments_lexer": "ipython3",
   "version": "3.8.8"
  }
 },
 "nbformat": 4,
 "nbformat_minor": 5
}
