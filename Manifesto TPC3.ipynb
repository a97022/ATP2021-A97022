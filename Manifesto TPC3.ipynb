{
 "cells": [
  {
   "cell_type": "markdown",
   "id": "bd8ae3e4-48b1-4e1e-9b14-1e722a04b078",
   "metadata": {},
   "source": [
    "# Manifesto TPC3\n",
    "\n",
    "### Identificador: TPC3\n",
    "### Título: BubbleSort\n",
    "### Data de início: 2021-10-19  Data do Fim: 2021-10-28\n",
    "### Supervisor: José Carlos Leite Ramalho, https://www.di.uminho.pt/~jcr/\n",
    "### Autor: Maria Susano do Vale\n",
    "\n",
    "## Resumo\n",
    "O BubbleSort tem como função ordenar uma lista aleatória por ordem crescente e apresentá-la.\n",
    "Primeiramente foi criada uma função para criar uma lista aleatória de números, onde como forma de input recebe o número de elementos da lista pretendida.\n",
    "A função BubbleSort percorre a lista criada pela funçao anterior e troca a ordem de um elemento se o seu sucedor o exceder em valor."
   ]
  },
  {
   "cell_type": "code",
   "execution_count": null,
   "id": "2ec861fe-bc93-4da8-ad78-428e112031f7",
   "metadata": {},
   "outputs": [],
   "source": []
  }
 ],
 "metadata": {
  "kernelspec": {
   "display_name": "Python 3",
   "language": "python",
   "name": "python3"
  },
  "language_info": {
   "codemirror_mode": {
    "name": "ipython",
    "version": 3
   },
   "file_extension": ".py",
   "mimetype": "text/x-python",
   "name": "python",
   "nbconvert_exporter": "python",
   "pygments_lexer": "ipython3",
   "version": "3.8.8"
  }
 },
 "nbformat": 4,
 "nbformat_minor": 5
}
