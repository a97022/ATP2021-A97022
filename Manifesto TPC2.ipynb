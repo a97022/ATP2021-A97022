{
 "cells": [
  {
   "cell_type": "markdown",
   "id": "88bcc9e7-cf13-4d7e-ae19-9d8e6ede562f",
   "metadata": {},
   "source": [
    "# Manifesto TPC2\n",
    "\n",
    "### Identificador: TPC2\n",
    "### Título: Adivinha o Número\n",
    "### Data de início: 2021-10-12  Data do Fim: 2021-10-21\n",
    "### Supervisor: José Carlos Leite Ramalho, https://www.di.uminho.pt/~jcr/\n",
    "### Autor: Maria Susano do Vale\n",
    "\n",
    "## Resumo\n",
    "O jogo adivinha o número tem como objetivo, como o seu nome indica, adivinhar o número que o jogador pensar de 0 a 100.\n",
    "Enquanto o computador não acertar no valor do jogador (b) o programa vai correr, fazendo questões que auxiliam a próxima tentativa. O jogo está programado para que adivinhe b no menor número de tentativas possível recorrendo à estratégia de \"eliminação de metades\", isto é, como o nosso alcance vai até 100 começamos por começar a 1ª tentativa tentando eliminar metade das possibilidades, perguntando se é maior/menor/igual a 50 e assim sucessivamente.\n",
    "Se o jogador selecionar uma opção diferente das apresentadas aparecerá uma mensagem de erro e o jogo reiniciará.\n"
   ]
  },
  {
   "cell_type": "code",
   "execution_count": null,
   "id": "a4818d0b-e025-433c-82a8-d86405e725a5",
   "metadata": {},
   "outputs": [],
   "source": []
  }
 ],
 "metadata": {
  "kernelspec": {
   "display_name": "Python 3",
   "language": "python",
   "name": "python3"
  },
  "language_info": {
   "codemirror_mode": {
    "name": "ipython",
    "version": 3
   },
   "file_extension": ".py",
   "mimetype": "text/x-python",
   "name": "python",
   "nbconvert_exporter": "python",
   "pygments_lexer": "ipython3",
   "version": "3.8.8"
  }
 },
 "nbformat": 4,
 "nbformat_minor": 5
}
